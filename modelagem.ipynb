{
 "cells": [
  {
   "cell_type": "markdown",
   "id": "a1958522-7928-4386-b68e-e9e9c81a82c0",
   "metadata": {},
   "source": [
    "# 3. Modelagem Para Previsão"
   ]
  },
  {
   "cell_type": "markdown",
   "id": "94d31b72-afa1-4192-9ace-bb22c7e0b695",
   "metadata": {},
   "source": [
    "## 3.1: Carregando e limpando os dados"
   ]
  },
  {
   "cell_type": "code",
   "execution_count": 247,
   "id": "fa8fa47b-acb7-4e15-ac63-9db686ea1766",
   "metadata": {},
   "outputs": [],
   "source": [
    "# Importanto componentes para o aprendizado de máquina\n",
    "import pandas as pd\n",
    "from sklearn.preprocessing import OneHotEncoder, StandardScaler\n",
    "from sklearn.compose import ColumnTransformer\n",
    "from sklearn.ensemble import RandomForestRegressor\n",
    "from sklearn.model_selection import train_test_split\n",
    "from sklearn.metrics import root_mean_squared_error, r2_score"
   ]
  },
  {
   "cell_type": "code",
   "execution_count": 248,
   "id": "5f66e665-56ee-4a41-afed-8ef14b104476",
   "metadata": {},
   "outputs": [],
   "source": [
    "# Carregando a base de dados\n",
    "df_precificacao = pd.read_csv('teste_indicium_precificacao.csv')"
   ]
  },
  {
   "cell_type": "code",
   "execution_count": 249,
   "id": "7fdc3bc0-1477-4890-bedb-2bfa2da73a97",
   "metadata": {},
   "outputs": [],
   "source": [
    "# Verificando quantidade de valores faltantes em cada coluna\n",
    "df_precificacao.isnull().sum()\n",
    "\n",
    "# Removendo colunar com mais de 30% de dados faltando\n",
    "limite = len(df_precificacao) * 0.7\n",
    "df_precificacao = df_precificacao.dropna(thresh=limite, axis=1)\n",
    "\n",
    "# Removendo duplicatas baseadas no id\n",
    "df_precificacao = df_precificacao.drop_duplicates(subset=['id'])"
   ]
  },
  {
   "cell_type": "markdown",
   "id": "aa3f9bbe-db0e-4d41-a046-53baa3c0244d",
   "metadata": {},
   "source": [
    "## 3.2: Pré-processamento"
   ]
  },
  {
   "cell_type": "code",
   "execution_count": 251,
   "id": "d511b247-8493-4bce-a6f7-e432479f798d",
   "metadata": {},
   "outputs": [],
   "source": [
    "# Excluindo colunas que não serão úteis\n",
    "df_modelo = df_precificacao.drop(['id', 'nome', 'host_id', 'host_name', 'ultima_review'], axis=1)\n",
    "\n",
    "# Substiui valores NAN por zero\n",
    "df_modelo['reviews_por_mes'] = df_modelo['reviews_por_mes'].fillna(0)"
   ]
  },
  {
   "cell_type": "code",
   "execution_count": 252,
   "id": "6d21526c-87db-41ad-abd9-1f79ee365fb1",
   "metadata": {},
   "outputs": [],
   "source": [
    "# Codificando variáveis\n",
    "categoricas = ['bairro_group', 'bairro', 'room_type']\n",
    "numericas = ['latitude', 'longitude', 'minimo_noites', 'numero_de_reviews', 'reviews_por_mes', 'calculado_host_listings_count', 'disponibilidade_365']"
   ]
  },
  {
   "cell_type": "code",
   "execution_count": 253,
   "id": "b9832117-1eaa-4d3d-9165-4c95517b4a40",
   "metadata": {},
   "outputs": [],
   "source": [
    "# Aplicando as transformações nas colunas\n",
    "preprocessador = ColumnTransformer(transformers=[('num', StandardScaler(), numericas), ('cat', OneHotEncoder(handle_unknown='ignore'), categoricas)])"
   ]
  },
  {
   "cell_type": "markdown",
   "id": "fd12b162-eb4b-4068-8dbf-57d82a761883",
   "metadata": {},
   "source": [
    "## 3.3: Treinando o modelo (Regressão)"
   ]
  },
  {
   "cell_type": "code",
   "execution_count": 255,
   "id": "2c267169-ad44-4a9d-a245-cecea3edbc34",
   "metadata": {},
   "outputs": [
    {
     "name": "stdout",
     "output_type": "stream",
     "text": [
      "Erro Quadrático Médio (EQM): 214.29\n",
      "R²: 0.00407520\n"
     ]
    }
   ],
   "source": [
    "# Definindo X e y\n",
    "X = preprocessador.fit_transform(df_modelo.drop('price', axis=1))\n",
    "y = df_modelo['price']\n",
    "\n",
    "# Dividindo os dados\n",
    "X_train, X_test, y_train, y_test = train_test_split(X, y, test_size=0.3, random_state=42)\n",
    "\n",
    "# Treinando o modelo\n",
    "modelo = RandomForestRegressor(n_estimators=100, random_state=42)\n",
    "modelo.fit(X_train, y_train)\n",
    "\n",
    "# Realizando a avaliação\n",
    "y_pred = modelo.predict(X_test)\n",
    "EQM = root_mean_squared_error(y_test, y_pred)\n",
    "r2 = r2_score(y_test, y_pred)\n",
    "print(f'Erro Quadrático Médio (EQM): {EQM:.2f}')\n",
    "print(f'R²: {r2:.8f}')"
   ]
  },
  {
   "cell_type": "markdown",
   "id": "0b542a63-1a44-4112-9f15-772eb2d69b48",
   "metadata": {},
   "source": [
    "# 4. Prevendo Preço Do Apartamento"
   ]
  },
  {
   "cell_type": "code",
   "execution_count": 257,
   "id": "370a64a3-cf20-4b21-89e2-d274c4d3df19",
   "metadata": {},
   "outputs": [
    {
     "name": "stdout",
     "output_type": "stream",
     "text": [
      "Sugestão de preço: US$ 477.84\n"
     ]
    }
   ],
   "source": [
    "# Dados do apartamento\n",
    "apartamento = {\n",
    " 'bairro_group': 'Manhattan',\n",
    " 'bairro': 'Midtown',\n",
    " 'room_type': 'Entire home/apt',\n",
    " 'latitude': 40.75362,\n",
    " 'longitude': -73.98377,\n",
    " 'minimo_noites': 1,\n",
    " 'numero_de_reviews': 45,\n",
    " 'reviews_por_mes': 0.38,\n",
    " 'calculado_host_listings_count': 2,\n",
    " 'disponibilidade_365': 355}\n",
    "\n",
    "# Criando um DataFrame\n",
    "df_apartamento = pd.DataFrame([apartamento])\n",
    "\n",
    "# Pré-processando\n",
    "X_apartamento = preprocessador.transform(df_apartamento)\n",
    "\n",
    "# Prevendo\n",
    "preco = modelo.predict(X_apartamento)[0]\n",
    "print(f'Sugestão de preço: US$ {preco:.2f}')"
   ]
  }
 ],
 "metadata": {
  "kernelspec": {
   "display_name": "Python 3 (ipykernel)",
   "language": "python",
   "name": "python3"
  },
  "language_info": {
   "codemirror_mode": {
    "name": "ipython",
    "version": 3
   },
   "file_extension": ".py",
   "mimetype": "text/x-python",
   "name": "python",
   "nbconvert_exporter": "python",
   "pygments_lexer": "ipython3",
   "version": "3.12.4"
  }
 },
 "nbformat": 4,
 "nbformat_minor": 5
}
